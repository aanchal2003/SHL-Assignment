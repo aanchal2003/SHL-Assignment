{
 "cells": [
  {
   "cell_type": "code",
   "execution_count": 1,
   "id": "16c25233",
   "metadata": {},
   "outputs": [
    {
     "name": "stderr",
     "output_type": "stream",
     "text": [
      "C:\\Users\\KIIT\\anaconda3\\Lib\\site-packages\\pandas\\core\\arrays\\masked.py:60: UserWarning: Pandas requires version '1.3.6' or newer of 'bottleneck' (version '1.3.5' currently installed).\n",
      "  from pandas.core import (\n",
      "C:\\Users\\KIIT\\anaconda3\\Lib\\site-packages\\tqdm\\auto.py:21: TqdmWarning: IProgress not found. Please update jupyter and ipywidgets. See https://ipywidgets.readthedocs.io/en/stable/user_install.html\n",
      "  from .autonotebook import tqdm as notebook_tqdm\n"
     ]
    },
    {
     "name": "stdout",
     "output_type": "stream",
     "text": [
      "Index(['rating', 'title', 'text', 'asin', 'parent_asin', 'user_id',\n",
      "       'timestamp', 'helpful_vote', 'verified_purchase', 'date', 'time'],\n",
      "      dtype='object')\n"
     ]
    },
    {
     "name": "stderr",
     "output_type": "stream",
     "text": [
      "The attention mask and the pad token id were not set. As a consequence, you may observe unexpected behavior. Please pass your input's `attention_mask` to obtain reliable results.\n",
      "Setting `pad_token_id` to `eos_token_id`:50256 for open-end generation.\n",
      "The attention mask and the pad token id were not set. As a consequence, you may observe unexpected behavior. Please pass your input's `attention_mask` to obtain reliable results.\n",
      "Setting `pad_token_id` to `eos_token_id`:50256 for open-end generation.\n",
      "The attention mask and the pad token id were not set. As a consequence, you may observe unexpected behavior. Please pass your input's `attention_mask` to obtain reliable results.\n",
      "Setting `pad_token_id` to `eos_token_id`:50256 for open-end generation.\n",
      "The attention mask and the pad token id were not set. As a consequence, you may observe unexpected behavior. Please pass your input's `attention_mask` to obtain reliable results.\n",
      "Setting `pad_token_id` to `eos_token_id`:50256 for open-end generation.\n",
      "The attention mask and the pad token id were not set. As a consequence, you may observe unexpected behavior. Please pass your input's `attention_mask` to obtain reliable results.\n",
      "Setting `pad_token_id` to `eos_token_id`:50256 for open-end generation.\n"
     ]
    },
    {
     "name": "stdout",
     "output_type": "stream",
     "text": [
      "\n",
      "Generated Review 1: My wyf loves it! I love the way it's wrapped around my arms! I like that it's made of a very soft base that gets to the body. I love the way it wraps around my wrists, I love how it's made from a softer base that gives it a bit of a matte finish. It's soft and comfortable, it doesn't cling too much to my body and it's the best looking base I've ever gotten. It's perfect to put on my dress, my shoes or your outfit and it's perfect to put on my makeup. I love how it's made from a soft base and it's made of a soft base that gives it a bit of a matte finish. It's soft and comfortable,\n",
      "\n",
      "Generated Review 2: Cheap price.  Cheap quality.  Ordered two.  One didn't work at all.  The other only registered 10% to 20% of the steps taken.  I took it up to a full-time job, but was told I had to pay extra for an extra month.  But I'm not getting any money and am still getting a refund.  It's not worth the money.  I've been told to pay extra for more weeks. I just can't afford the extra time and time again. \n",
      "\n",
      "I bought this because I was looking for a new laptop.  I've been using this for a year now, and it's the best thing I've ever purchased.  We have a lot\n",
      "\n",
      "Generated Review 3: I've used this product in the past and I remember feeling really great overall while using it, so I wanted to try it again.  I haven't been on it that long yet but within a month I can tell you that I am already noticing some positive changes to my body again.  One thing that sticks out is that my hair is a lot healthier.  I usually lose a lot of hair in the process of washing and rinsing in the shower daily, but I hardly lose any hair now.  Reminds me of when I'm pregnant.<br />Will update this again when I've been using it longer.\n",
      "\n",
      "Rated 4 out of 5 by klek from It is not as easy to clean as it looks\n",
      "\n",
      "Generated Review 4: If you have a sugar craving on keto this comes in handy as well as helping to balance the fat intake.\n",
      "\n",
      "Another nice feature is that if you have any kind of low carb food that you can add to your diet, like gluten, I'd definitely recommend adding it to your diet as well.\n",
      "\n",
      "4. Make sure to drink lots of water and get plenty of exercise.\n",
      "\n",
      "One of the most important things that I did during my keto journey was to do a daily exercise program for my kids. My keto dieter, who is very strict about exercising, was very strict about getting enough fluids to help his body keep the ketones down. I also did a weekly plan to get him to have a regular exercise\n",
      "\n",
      "Generated Review 5: I've had it for 3 weeks now and so far, so good. I like that it's sensitive; even picking it up registers a few small lbs of pressure. It does need to be put on a VERY flat surface, preferably in the same spot every time. It just keeps going. I've tried it on more than once and it can be changed. It's the only one I have not tried for some reason. I believe that it will work on other mice as well. I have a pair of other mice that I have not tried, but they feel a little less sensitive. This is the only one I've tried that I haven't tried. It works like a charm! I'll be purchasing more as I get older. I\n"
     ]
    }
   ],
   "source": [
    "import pandas as pd\n",
    "from transformers import GPT2Tokenizer, GPT2LMHeadModel\n",
    "\n",
    "# Load the dataset\n",
    "df = pd.read_csv(\"reviews_supplements.csv\")\n",
    "\n",
    "# Inspect the columns\n",
    "print(df.columns)\n",
    "\n",
    "# Select a few sample reviews using the correct column name\n",
    "sample_reviews = df['text'].sample(5).tolist()\n",
    "\n",
    "# Load pre-trained GPT-2 tokenizer and model\n",
    "tokenizer = GPT2Tokenizer.from_pretrained(\"gpt2\")\n",
    "model = GPT2LMHeadModel.from_pretrained(\"gpt2\")\n",
    "\n",
    "# Generate synthetic reviews for each sample\n",
    "generated_reviews = []\n",
    "\n",
    "for review in sample_reviews:\n",
    "    inputs = tokenizer.encode(review, return_tensors=\"pt\")\n",
    "    outputs = model.generate(inputs, max_length=150, do_sample=True, top_k=50, temperature=0.7)\n",
    "    generated_text = tokenizer.decode(outputs[0], skip_special_tokens=True)\n",
    "    generated_reviews.append(generated_text)\n",
    "\n",
    "# Print generated reviews\n",
    "for i, synthetic_review in enumerate(generated_reviews):\n",
    "    print(f\"\\nGenerated Review {i+1}: {synthetic_review}\")\n"
   ]
  },
  {
   "cell_type": "code",
   "execution_count": 2,
   "id": "2e8a3918",
   "metadata": {},
   "outputs": [
    {
     "name": "stdout",
     "output_type": "stream",
     "text": [
      "Synthetic reviews saved to synthetic_reviews.csv\n"
     ]
    }
   ],
   "source": [
    "# Save the generated reviews to a CSV file\n",
    "generated_df = pd.DataFrame(generated_reviews, columns=[\"syntheticReview\"])\n",
    "generated_df.to_csv(\"synthetic_reviews.csv\", index=False)\n",
    "\n",
    "print(\"Synthetic reviews saved to synthetic_reviews.csv\")\n"
   ]
  },
  {
   "cell_type": "code",
   "execution_count": 3,
   "id": "f1c47bdb",
   "metadata": {},
   "outputs": [
    {
     "name": "stdout",
     "output_type": "stream",
     "text": [
      "Diversity Analysis:\n",
      "Average review length: 8.75 words\n",
      "Max review length: 10 words\n",
      "Min review length: 8 words\n",
      "Average sentiment polarity: 0.3416666666666667\n",
      "Sentiment range: 0.0 to 0.6666666666666666\n",
      "\n",
      "Realism Analysis:\n",
      "Review 1 perplexity: 78.65267944335938\n",
      "Review 2 perplexity: 123.70069122314453\n",
      "Review 3 perplexity: 77.16495513916016\n",
      "Review 4 perplexity: 164.3584747314453\n",
      "\n",
      "Originality Analysis:\n",
      "Average cosine similarity between generated and original reviews: 0.06324736040844718\n"
     ]
    }
   ],
   "source": [
    "import torch\n",
    "from transformers import GPT2Tokenizer, GPT2LMHeadModel\n",
    "from sklearn.metrics.pairwise import cosine_similarity\n",
    "from sklearn.feature_extraction.text import TfidfVectorizer\n",
    "from textblob import TextBlob\n",
    "import numpy as np\n",
    "\n",
    "# Load GPT-2 for perplexity calculation\n",
    "tokenizer = GPT2Tokenizer.from_pretrained('gpt2')\n",
    "model = GPT2LMHeadModel.from_pretrained('gpt2')\n",
    "\n",
    "# Sample generated reviews (replace this with your generated reviews)\n",
    "generated_reviews = [\"This supplement really helped with my energy levels.\", \n",
    "                     \"The vitamins were okay, but I didn’t notice any difference.\", \n",
    "                     \"Great product! I feel more energetic and healthier.\", \n",
    "                     \"I don’t recommend this. It gave me stomach pain.\"]\n",
    "\n",
    "# Original reviews (replace this with your original dataset reviews)\n",
    "original_reviews = [\"I have been taking these supplements for a week and they are amazing.\",\n",
    "                    \"The packaging was damaged, but the product seems fine.\",\n",
    "                    \"I don’t think this supplement works for me.\",\n",
    "                    \"Excellent product. I will buy again.\"]\n",
    "\n",
    "# Function to measure diversity based on length of reviews\n",
    "def measure_diversity(reviews):\n",
    "    lengths = [len(review.split()) for review in reviews]\n",
    "    print(f\"Average review length: {np.mean(lengths)} words\")\n",
    "    print(f\"Max review length: {np.max(lengths)} words\")\n",
    "    print(f\"Min review length: {np.min(lengths)} words\")\n",
    "\n",
    "# Function to measure sentiment diversity using TextBlob\n",
    "def measure_sentiment_diversity(reviews):\n",
    "    sentiments = [TextBlob(review).sentiment.polarity for review in reviews]\n",
    "    print(f\"Average sentiment polarity: {np.mean(sentiments)}\")\n",
    "    print(f\"Sentiment range: {np.min(sentiments)} to {np.max(sentiments)}\")\n",
    "\n",
    "# Function to calculate perplexity for realism\n",
    "def calculate_perplexity(review):\n",
    "    inputs = tokenizer.encode(review, return_tensors=\"pt\")\n",
    "    with torch.no_grad():\n",
    "        outputs = model(inputs, labels=inputs)\n",
    "        loss = outputs.loss\n",
    "    return torch.exp(loss).item()\n",
    "\n",
    "# Function to check originality using cosine similarity\n",
    "def calculate_originality(generated_reviews, original_reviews):\n",
    "    vectorizer = TfidfVectorizer()\n",
    "    all_reviews = generated_reviews + original_reviews\n",
    "    vectors = vectorizer.fit_transform(all_reviews)\n",
    "    \n",
    "    # Compute cosine similarity\n",
    "    similarity_matrix = cosine_similarity(vectors[:len(generated_reviews)], vectors[len(generated_reviews):])\n",
    "    avg_similarity = np.mean(similarity_matrix)\n",
    "    \n",
    "    print(f\"Average cosine similarity between generated and original reviews: {avg_similarity}\")\n",
    "\n",
    "# 1. Measure diversity of generated reviews (length and sentiment)\n",
    "print(\"Diversity Analysis:\")\n",
    "measure_diversity(generated_reviews)\n",
    "measure_sentiment_diversity(generated_reviews)\n",
    "\n",
    "# 2. Measure realism using perplexity\n",
    "print(\"\\nRealism Analysis:\")\n",
    "for i, review in enumerate(generated_reviews):\n",
    "    perplexity = calculate_perplexity(review)\n",
    "    print(f\"Review {i+1} perplexity: {perplexity}\")\n",
    "\n",
    "# 3. Measure originality using cosine similarity\n",
    "print(\"\\nOriginality Analysis:\")\n",
    "calculate_originality(generated_reviews, original_reviews)\n"
   ]
  },
  {
   "cell_type": "code",
   "execution_count": null,
   "id": "25b45852",
   "metadata": {},
   "outputs": [],
   "source": []
  }
 ],
 "metadata": {
  "kernelspec": {
   "display_name": "Python 3 (ipykernel)",
   "language": "python",
   "name": "python3"
  },
  "language_info": {
   "codemirror_mode": {
    "name": "ipython",
    "version": 3
   },
   "file_extension": ".py",
   "mimetype": "text/x-python",
   "name": "python",
   "nbconvert_exporter": "python",
   "pygments_lexer": "ipython3",
   "version": "3.11.5"
  }
 },
 "nbformat": 4,
 "nbformat_minor": 5
}
